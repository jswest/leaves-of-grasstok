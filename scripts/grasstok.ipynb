{
 "cells": [
  {
   "cell_type": "code",
   "execution_count": 65,
   "id": "181816c3-f7a9-406c-9959-810d54729aa4",
   "metadata": {},
   "outputs": [],
   "source": [
    "import json\n",
    "import numpy as np\n",
    "from pprint import pprint\n",
    "import re\n",
    "import torch\n",
    "from transformers import CLIPProcessor, CLIPModel\n",
    "from tqdm.notebook import tqdm\n",
    "from umap import UMAP"
   ]
  },
  {
   "cell_type": "code",
   "execution_count": 2,
   "id": "821d932b-39b9-4e28-a245-2fba7bd1d9a6",
   "metadata": {},
   "outputs": [],
   "source": [
    "MAX_WORDS = 50"
   ]
  },
  {
   "cell_type": "code",
   "execution_count": 3,
   "id": "7213a454-a23c-4643-b987-5064456cd726",
   "metadata": {},
   "outputs": [],
   "source": [
    "with open(\"./../data/leaves-of-grass.txt\", \"r\") as in_file:\n",
    "    text = in_file.read()\n",
    "    text = re.sub(r'\\n{3,}', '\\n\\n', text)\n",
    "lines = text.split(\"\\n\")"
   ]
  },
  {
   "cell_type": "code",
   "execution_count": 39,
   "id": "dddc9193-10bd-417e-8f4e-b9fe41a86004",
   "metadata": {},
   "outputs": [],
   "source": [
    "def split_stanza(stanza, MAX_WORDS=MAX_WORDS):\n",
    "    lines = stanza.split('\\n')\n",
    "    current_chunk = []\n",
    "    current_word_count = 0\n",
    "    chunks = []\n",
    "    \n",
    "    for line in lines:\n",
    "        line_words = line.split()\n",
    "        line_word_count = len(line_words)\n",
    "        \n",
    "        if current_word_count + line_word_count > MAX_WORDS and len(current_chunk) > 0:\n",
    "            chunks.append('\\n'.join(current_chunk))\n",
    "            current_chunk = []\n",
    "            current_word_count = 0\n",
    "            \n",
    "        # If the line is too long, we'll just let CLIP truncate.\n",
    "        if line_word_count > MAX_WORDS:\n",
    "            if len(current_chunk) > 0:\n",
    "                chunks.append(\"\\n\".join(current_chunk))\n",
    "                current_chunk = []\n",
    "                current_word_count = 0\n",
    "            chunks.append(\"\\n\".join([line]))\n",
    "        else:\n",
    "            current_chunk.append(line)\n",
    "            current_word_count += line_word_count\n",
    "    \n",
    "    if current_chunk:\n",
    "        chunks.append('\\n'.join(current_chunk))\n",
    "    \n",
    "    return chunks\n",
    "\n",
    "poems = []\n",
    "book = \"\"\n",
    "title = \"\"\n",
    "poem = []\n",
    "for line in lines:\n",
    "    if line != \"\" and not line.startswith(\" \"):\n",
    "        if len([l for l in poem if l != \"\"]) > 0:\n",
    "            poems.append({\n",
    "                \"book\": book,\n",
    "                \"title\": title,\n",
    "                \"lines\": poem,\n",
    "            })\n",
    "        if line.upper() == line:\n",
    "            book = line.strip()\n",
    "        else:\n",
    "            title = line.strip()\n",
    "        poem = []\n",
    "    else:\n",
    "        poem.append(line.strip())\n",
    "poems.append({\n",
    "    \"book\": book,\n",
    "    \"title\": title,\n",
    "    \"lines\": poem\n",
    "})\n",
    "\n",
    "for poem in poems:\n",
    "    poem[\"stanzas\"] = [stanza.strip() for stanza in \"\\n\".join(poem[\"lines\"]).split(\"\\n\\n\")]\n",
    "    poem[\"chunks\"] = []\n",
    "    for stanza in poem[\"stanzas\"]:\n",
    "        total_words = len(' '.join(stanza.split('\\n')).split())\n",
    "        if total_words <= MAX_WORDS:\n",
    "            poem[\"chunks\"].append(stanza)\n",
    "        else:\n",
    "            poem[\"chunks\"].extend(split_stanza(stanza))"
   ]
  },
  {
   "cell_type": "code",
   "execution_count": 40,
   "id": "7efed390-eaf7-494c-8dff-bf0ca83b3f64",
   "metadata": {},
   "outputs": [],
   "source": [
    "model = CLIPModel.from_pretrained(\"openai/clip-vit-base-patch32\")\n",
    "processor = CLIPProcessor.from_pretrained(\"openai/clip-vit-base-patch32\")"
   ]
  },
  {
   "cell_type": "code",
   "execution_count": 41,
   "id": "7216e3c1-8832-4fe1-ba2e-e355662035bb",
   "metadata": {},
   "outputs": [
    {
     "data": {
      "application/vnd.jupyter.widget-view+json": {
       "model_id": "5756b5879cd442f3a70796a5707b2681",
       "version_major": 2,
       "version_minor": 0
      },
      "text/plain": [
       "  0%|          | 0/383 [00:00<?, ?it/s]"
      ]
     },
     "metadata": {},
     "output_type": "display_data"
    }
   ],
   "source": [
    "for poem in tqdm(poems):\n",
    "    poem[\"embeddings\"] = []\n",
    "    for chunk in poem[\"chunks\"]:\n",
    "        with torch.no_grad():\n",
    "            inputs = processor(text=[chunk], return_tensors=\"pt\", padding=True, truncation=True).to(\"cpu\")\n",
    "            text_features = model.get_text_features(**inputs)\n",
    "            embeddings = text_features / text_features.norm(dim=1, keepdim=True)\n",
    "        poem[\"embeddings\"].append(embeddings[0].numpy().tolist())"
   ]
  },
  {
   "cell_type": "code",
   "execution_count": 75,
   "id": "e68e78d0-3b3c-423e-9b00-47b45d01c826",
   "metadata": {},
   "outputs": [
    {
     "name": "stderr",
     "output_type": "stream",
     "text": [
      "/Users/johnwest/Code/resset/resset/.venv/lib/python3.12/site-packages/sklearn/utils/deprecation.py:151: FutureWarning: 'force_all_finite' was renamed to 'ensure_all_finite' in 1.6 and will be removed in 1.8.\n",
      "  warnings.warn(\n",
      "/Users/johnwest/Code/resset/resset/.venv/lib/python3.12/site-packages/umap/umap_.py:1952: UserWarning: n_jobs value 1 overridden to 1 by setting random_state. Use no seed for parallelism.\n",
      "  warn(\n",
      "/Users/johnwest/Code/resset/resset/.venv/lib/python3.12/site-packages/sklearn/utils/deprecation.py:151: FutureWarning: 'force_all_finite' was renamed to 'ensure_all_finite' in 1.6 and will be removed in 1.8.\n",
      "  warnings.warn(\n"
     ]
    }
   ],
   "source": [
    "embeddings = []\n",
    "for poem_index, poem in enumerate(poems):\n",
    "    for embedding_index, embedding in enumerate(poem[\"embeddings\"]):\n",
    "        embeddings.append({\n",
    "            \"poem_index\": poem_index,\n",
    "            \"embedding_index\": embedding_index,\n",
    "            \"embedding\": embedding\n",
    "        })\n",
    "    \n",
    "\n",
    "reducer = UMAP(random_state=42, n_neighbors=20)\n",
    "reduced = reducer.fit_transform([d[\"embedding\"] for d in embeddings])\n",
    "\n",
    "reducer_long = UMAP(random_state=42, n_neighbors=20, n_components=10)\n",
    "reduced_long = reducer.fit_transform([d[\"embedding\"] for d in embeddings])\n",
    "\n",
    "for index, embedding in enumerate(embeddings):\n",
    "    embedding[\"reduced\"] = reduced[index]\n",
    "    embedding[\"long\"] = reduced_long[index]"
   ]
  },
  {
   "cell_type": "code",
   "execution_count": 76,
   "id": "c95824c1-a161-4f8a-94d4-7af08d05e714",
   "metadata": {},
   "outputs": [],
   "source": [
    "with open(\"./../data/vectors.json\", \"r\") as in_file:\n",
    "    images = json.load(in_file)"
   ]
  },
  {
   "cell_type": "code",
   "execution_count": 77,
   "id": "cb9d7a7f-7c6b-4bfd-9ffa-52caf050d8c9",
   "metadata": {},
   "outputs": [
    {
     "data": {
      "application/vnd.jupyter.widget-view+json": {
       "model_id": "25e2451fd84c4f8b9c5ba2191ea18493",
       "version_major": 2,
       "version_minor": 0
      },
      "text/plain": [
       "  0%|          | 0/3469 [00:00<?, ?it/s]"
      ]
     },
     "metadata": {},
     "output_type": "display_data"
    }
   ],
   "source": [
    "def find_most_similar(needle, haystack):\n",
    "    needle = np.array(needle)\n",
    "    haystack = np.array(haystack)\n",
    "    needle_normalized = needle / np.linalg.norm(needle)\n",
    "    haystack_normalized = haystack / np.linalg.norm(haystack, axis=1)[:, np.newaxis]\n",
    "    \n",
    "    similarities = haystack_normalized @ needle_normalized\n",
    "    \n",
    "    most_similar_idx = np.argmax(similarities)\n",
    "    similarity_score = similarities[most_similar_idx]\n",
    "    \n",
    "    return most_similar_idx, similarity_score\n",
    "\n",
    "for d in tqdm(embeddings):\n",
    "    index, score = find_most_similar(d[\"embedding\"], [image[\"vector\"] for image in images])\n",
    "    d[\"image_filename\"] = images[index][\"image_filename\"]"
   ]
  },
  {
   "cell_type": "code",
   "execution_count": 82,
   "id": "1962ed85-19cb-4a25-9ada-47332dfa730b",
   "metadata": {},
   "outputs": [
    {
     "data": {
      "application/vnd.jupyter.widget-view+json": {
       "model_id": "eb0e48a40fca4b42a5c82e414a504d5e",
       "version_major": 2,
       "version_minor": 0
      },
      "text/plain": [
       "0it [00:00, ?it/s]"
      ]
     },
     "metadata": {},
     "output_type": "display_data"
    }
   ],
   "source": [
    "out = []\n",
    "for poem_index, poem in tqdm(enumerate(poems)):\n",
    "    if not \"title\" in poem:\n",
    "        print(poem)\n",
    "        continue\n",
    "    needles = [e for e in embeddings if e[\"poem_index\"] == poem_index]\n",
    "    if len(needles) != len(poem[\"chunks\"]):\n",
    "        print(\"needles\", len(needles))\n",
    "        print(\"chunks\", len(poem[\"chunks\"]))\n",
    "        continue\n",
    "    datum = {\n",
    "        \"book\": poem[\"book\"],\n",
    "        \"title\": poem[\"title\"],\n",
    "        \"chunks\": [\n",
    "            {\n",
    "                \"body\": chunk,\n",
    "                \"embedding\": needles[index][\"long\"].tolist(),\n",
    "                \"image\": needles[index][\"image_filename\"],\n",
    "                \"reduced\": needles[index][\"reduced\"].tolist()\n",
    "            } for index, chunk in enumerate(poem[\"chunks\"])\n",
    "        ]\n",
    "    }\n",
    "    out.append(datum)\n"
   ]
  },
  {
   "cell_type": "code",
   "execution_count": 83,
   "id": "1cdaf72a-c44d-4255-b16b-b62ffb6ba406",
   "metadata": {},
   "outputs": [],
   "source": [
    "with open(\"./../src/lib/data.json\", \"w\") as out_file:\n",
    "    json.dump(out, out_file, indent=2)"
   ]
  },
  {
   "cell_type": "code",
   "execution_count": null,
   "id": "5b598c8c-de8d-49b5-aa5b-d1cc639fd5a5",
   "metadata": {},
   "outputs": [],
   "source": []
  }
 ],
 "metadata": {
  "kernelspec": {
   "display_name": "Python 3 (ipykernel)",
   "language": "python",
   "name": "python3"
  },
  "language_info": {
   "codemirror_mode": {
    "name": "ipython",
    "version": 3
   },
   "file_extension": ".py",
   "mimetype": "text/x-python",
   "name": "python",
   "nbconvert_exporter": "python",
   "pygments_lexer": "ipython3",
   "version": "3.12.8"
  }
 },
 "nbformat": 4,
 "nbformat_minor": 5
}
